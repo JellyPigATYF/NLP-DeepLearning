{
 "cells": [
  {
   "cell_type": "code",
   "execution_count": null,
   "id": "080d50fc",
   "metadata": {
    "id": "080d50fc"
   },
   "outputs": [],
   "source": [
    "import time\n",
    "import torch\n",
    "from torch.utils.data import DataLoader, TensorDataset\n",
    "from torchtext.data.utils import get_tokenizer\n",
    "from torchtext.datasets import DATASETS\n",
    "from torchtext.vocab import build_vocab_from_iterator\n",
    "import torch.nn as nn\n",
    "from tqdm import tqdm\n",
    "import pickle\n",
    "import random\n",
    "import numpy as np\n",
    "from collections import Counter, defaultdict\n",
    "import numpy as np\n",
    "import matplotlib.pyplot as plt\n",
    "from sklearn.decomposition import PCA\n",
    "from gensim.test.utils import datapath, get_tmpfile\n",
    "from gensim.models import KeyedVectors\n",
    "import gensim.downloader\n",
    "from torch import FloatTensor as FT\n",
    "\n",
    "# Get the interactive Tools for Matplotlib\n",
    "%matplotlib notebook\n",
    "%matplotlib inline\n",
    "\n",
    "plt.style.use('ggplot')"
   ]
  },
  {
   "cell_type": "code",
   "execution_count": null,
   "id": "f5419c32",
   "metadata": {
    "id": "f5419c32"
   },
   "outputs": [],
   "source": []
  },
  {
   "cell_type": "markdown",
   "id": "66eb271d",
   "metadata": {
    "id": "66eb271d"
   },
   "source": [
    "### Information\n",
    "- torchtext repo: https://github.com/pytorch/text/tree/main/torchtext\n",
    "- torchtext documentation: https://pytorch.org/text/stable/index.html"
   ]
  },
  {
   "cell_type": "code",
   "execution_count": null,
   "id": "31b412ca",
   "metadata": {
    "id": "31b412ca"
   },
   "outputs": [],
   "source": [
    "# Where do I want to run my job. You can do \"cuda\" on linux machines\n",
    "DEVICE = \"cuda\" if torch.cuda.is_available() else  \"cpu\"\n",
    "# The batch size in Adam or SGD\n",
    "BATCH_SIZE = 512\n",
    "# Number of epochs\n",
    "NUM_EPOCHS = 10\n",
    "# Predict from 2 words the inner word for CBOW\n",
    "# I.e. I'll have a window like [\"a\", \"b\", \"c\"] of continuous text (each is a word)\n",
    "# We'll predict each of wc = [\"a\", \"c\"] from \"b\" = wc for Skip-Gram\n",
    "# For CBOW, we'll use [\"a\", \"c\"] to predict \"b\" = wo\n",
    "WINDOW = 1\n",
    "\n",
    "# Negative samples\n",
    "K = 4"
   ]
  },
  {
   "cell_type": "code",
   "execution_count": null,
   "id": "e3311ae5",
   "metadata": {
    "id": "e3311ae5"
   },
   "outputs": [],
   "source": []
  },
  {
   "cell_type": "markdown",
   "id": "3ec9f90a",
   "metadata": {
    "id": "3ec9f90a"
   },
   "source": [
    "The text8 Wikipedia corpus. 100M characters."
   ]
  },
  {
   "cell_type": "code",
   "execution_count": 5,
   "id": "3217b67b",
   "metadata": {
    "colab": {
     "base_uri": "https://localhost:8080/"
    },
    "id": "3217b67b",
    "outputId": "411b40cf-bf5c-4402-f71d-0a9f9164a72c"
   },
   "outputs": [
    {
     "name": "stdout",
     "output_type": "stream",
     "text": [
      "Mounted at /content/drive\n",
      "100000000\n"
     ]
    }
   ],
   "source": [
    "# Put the data in your Google Drive\n",
    "from google.colab import drive\n",
    "drive.mount('/content/drive')\n",
    "\n",
    "!du -h text8\n",
    "\n",
    "f = open('/content/drive/MyDrive/text8/text8', 'r')\n",
    "text = f.read()\n",
    "# One big string of size 100M.\n",
    "print(len(text))"
   ]
  },
  {
   "cell_type": "code",
   "execution_count": 6,
   "id": "6c1bf892",
   "metadata": {
    "id": "6c1bf892"
   },
   "outputs": [],
   "source": [
    "punc = '!\"#$%&()*+,-./:;<=>?@[\\\\]^_\\'{|}~\\t\\n'\n",
    "\n",
    "# Can do regular expressions here too.\n",
    "for c in punc:\n",
    "    if c in text:\n",
    "        text.replace(c, ' ')"
   ]
  },
  {
   "cell_type": "code",
   "execution_count": 6,
   "id": "451bf3ab",
   "metadata": {
    "id": "451bf3ab"
   },
   "outputs": [],
   "source": []
  },
  {
   "cell_type": "code",
   "execution_count": 7,
   "id": "0bc19b0c",
   "metadata": {
    "id": "0bc19b0c"
   },
   "outputs": [],
   "source": [
    "# A very crude tokenizer you get for free: lower case and also split on spaces.\n",
    "TOKENIZER = get_tokenizer(\"basic_english\")"
   ]
  },
  {
   "cell_type": "code",
   "execution_count": 8,
   "id": "ff8fd598",
   "metadata": {
    "id": "ff8fd598"
   },
   "outputs": [],
   "source": [
    "words = TOKENIZER(text)\n",
    "f = Counter(words)"
   ]
  },
  {
   "cell_type": "code",
   "execution_count": 9,
   "id": "ba7f72f8",
   "metadata": {
    "colab": {
     "base_uri": "https://localhost:8080/"
    },
    "id": "ba7f72f8",
    "outputId": "d2dacba3-beb7-4f64-cea8-123479af6e8a"
   },
   "outputs": [
    {
     "data": {
      "text/plain": [
       "17005207"
      ]
     },
     "execution_count": 9,
     "metadata": {},
     "output_type": "execute_result"
    }
   ],
   "source": [
    "len(words)"
   ]
  },
  {
   "cell_type": "code",
   "execution_count": 10,
   "id": "16b736a4",
   "metadata": {
    "id": "16b736a4"
   },
   "outputs": [],
   "source": [
    "# Do a very crude filter on the text which remoes all words whuch\n",
    "text = [word for word in words if f[word] > 5]"
   ]
  },
  {
   "cell_type": "code",
   "execution_count": 11,
   "id": "6916a763",
   "metadata": {
    "colab": {
     "base_uri": "https://localhost:8080/"
    },
    "id": "6916a763",
    "outputId": "20796951-bd23-443d-a69b-86591ccb6465"
   },
   "outputs": [
    {
     "data": {
      "text/plain": [
       "['anarchism', 'originated', 'as', 'a', 'term']"
      ]
     },
     "execution_count": 11,
     "metadata": {},
     "output_type": "execute_result"
    }
   ],
   "source": [
    "text[0:5]"
   ]
  },
  {
   "cell_type": "code",
   "execution_count": 12,
   "id": "10ad817a",
   "metadata": {
    "id": "10ad817a"
   },
   "outputs": [],
   "source": [
    "VOCAB = build_vocab_from_iterator([text])"
   ]
  },
  {
   "cell_type": "code",
   "execution_count": 13,
   "id": "a7f69fc9",
   "metadata": {
    "id": "a7f69fc9"
   },
   "outputs": [],
   "source": [
    "# word -> int hash map\n",
    "stoi = VOCAB.get_stoi()\n",
    "# int -> word hash map\n",
    "itos = VOCAB.get_itos()"
   ]
  },
  {
   "cell_type": "code",
   "execution_count": 14,
   "id": "9991f9ab",
   "metadata": {
    "colab": {
     "base_uri": "https://localhost:8080/"
    },
    "id": "9991f9ab",
    "outputId": "b1256496-883f-420a-d5d2-6d126e8240e7"
   },
   "outputs": [
    {
     "data": {
      "text/plain": [
       "11"
      ]
     },
     "execution_count": 14,
     "metadata": {},
     "output_type": "execute_result"
    }
   ],
   "source": [
    "stoi['as']"
   ]
  },
  {
   "cell_type": "code",
   "execution_count": 15,
   "id": "0f49f5fa",
   "metadata": {
    "colab": {
     "base_uri": "https://localhost:8080/"
    },
    "id": "0f49f5fa",
    "outputId": "460018a8-1693-4431-c902-72b1e57ea62a"
   },
   "outputs": [
    {
     "data": {
      "text/plain": [
       "63641"
      ]
     },
     "execution_count": 15,
     "metadata": {},
     "output_type": "execute_result"
    }
   ],
   "source": [
    "# Total number of words\n",
    "len(stoi)"
   ]
  },
  {
   "cell_type": "code",
   "execution_count": 16,
   "id": "6c5c415a",
   "metadata": {
    "id": "6c5c415a"
   },
   "outputs": [],
   "source": [
    "f = Counter(text)\n",
    "# This is the probability that we pick a word in the corpus.\n",
    "z = {word: f[word] / len(text) for word in f}"
   ]
  },
  {
   "cell_type": "code",
   "execution_count": 17,
   "id": "1e543e1e",
   "metadata": {
    "id": "1e543e1e"
   },
   "outputs": [],
   "source": [
    "threshold = 1e-5\n",
    "# Probability that word is kept while subsampling.\n",
    "# This is explained here and sightly differet from the paper: http://mccormickml.com/2017/01/11/word2vec-tutorial-part-2-negative-sampling/\n",
    "p_keep = {word: (np.sqrt(z[word] / 0.001) + 1)*(0.0001 / z[word]) for word in f}"
   ]
  },
  {
   "cell_type": "code",
   "execution_count": 18,
   "id": "dd22119d",
   "metadata": {
    "id": "dd22119d"
   },
   "outputs": [],
   "source": [
    "# This is in the integer space.\n",
    "train_dataset = [word for word in text if random.random() < p_keep[word]]\n",
    "\n",
    "# Rebuild the vocabulary.\n",
    "VOCAB = build_vocab_from_iterator([train_dataset])"
   ]
  },
  {
   "cell_type": "code",
   "execution_count": 19,
   "id": "a2d695da",
   "metadata": {
    "colab": {
     "base_uri": "https://localhost:8080/"
    },
    "id": "a2d695da",
    "outputId": "b0488770-69b4-4d9c-9824-cb78e5462ef6"
   },
   "outputs": [
    {
     "data": {
      "text/plain": [
       "7846065"
      ]
     },
     "execution_count": 19,
     "metadata": {},
     "output_type": "execute_result"
    }
   ],
   "source": [
    "len(train_dataset)"
   ]
  },
  {
   "cell_type": "code",
   "execution_count": 20,
   "id": "30d67549",
   "metadata": {
    "id": "30d67549"
   },
   "outputs": [],
   "source": [
    "# word -> int mapping.\n",
    "stoi = VOCAB.get_stoi()\n",
    "# int -> word mapping.\n",
    "itos = VOCAB.get_itos()"
   ]
  },
  {
   "cell_type": "code",
   "execution_count": 21,
   "id": "b46337b8",
   "metadata": {
    "colab": {
     "base_uri": "https://localhost:8080/"
    },
    "id": "b46337b8",
    "outputId": "b8c4ea63-b47f-48d3-9b8b-605e01724eec"
   },
   "outputs": [
    {
     "data": {
      "text/plain": [
       "63641"
      ]
     },
     "execution_count": 21,
     "metadata": {},
     "output_type": "execute_result"
    }
   ],
   "source": [
    "# The vocabulary size after we do all the filters.\n",
    "len(VOCAB)"
   ]
  },
  {
   "cell_type": "code",
   "execution_count": 22,
   "id": "c9346f36",
   "metadata": {
    "id": "c9346f36"
   },
   "outputs": [],
   "source": [
    "# The probability we draw something for negative sampling.\n",
    "f = Counter(train_dataset)\n",
    "p = torch.zeros(len(VOCAB))\n",
    "\n",
    "# Downsample frequent words and upsample less frequent.\n",
    "s = sum([np.power(freq, 0.75) for word, freq in f.items()])\n",
    "\n",
    "for word in f:\n",
    "    p[stoi[word]] = np.power(f[word], 0.75) / s"
   ]
  },
  {
   "cell_type": "code",
   "execution_count": 23,
   "id": "dd713c15",
   "metadata": {
    "id": "dd713c15"
   },
   "outputs": [],
   "source": [
    "# Map everything to integers.\n",
    "train_dataset = [stoi[word] for word in text]"
   ]
  },
  {
   "cell_type": "code",
   "execution_count": 24,
   "id": "8e96c0c4",
   "metadata": {
    "id": "8e96c0c4"
   },
   "outputs": [],
   "source": [
    "# This just gets the (wc, wo) pairs that are positive - they are seen together!\n",
    "def get_tokenized_dataset(dataset, verbose=False):\n",
    "    x_list = []\n",
    "\n",
    "    for i, token in enumerate(dataset):\n",
    "        m = 1\n",
    "\n",
    "        start = max(0,i-m)\n",
    "        left_tokens = dataset[start:i]\n",
    "\n",
    "        end = min(i+m,len(dataset)-1)\n",
    "        right_tokens = dataset[i+1:end+1]\n",
    "\n",
    "        if len(left_tokens) == len(right_tokens):\n",
    "            w_context = left_tokens + right_tokens\n",
    "\n",
    "            wc = token\n",
    "\n",
    "            x_list.extend(\n",
    "                [w_context + [wc]]\n",
    "            )\n",
    "\n",
    "    return x_list"
   ]
  },
  {
   "cell_type": "code",
   "execution_count": 25,
   "id": "3eb82aad",
   "metadata": {
    "id": "3eb82aad"
   },
   "outputs": [],
   "source": [
    "train_x_list = get_tokenized_dataset(train_dataset, verbose=False)"
   ]
  },
  {
   "cell_type": "code",
   "execution_count": 26,
   "id": "8412ee4d",
   "metadata": {
    "id": "8412ee4d"
   },
   "outputs": [],
   "source": [
    "pickle.dump(train_x_list, open('train_x_list.pkl', 'wb'))"
   ]
  },
  {
   "cell_type": "code",
   "execution_count": 27,
   "id": "3fd54caf",
   "metadata": {
    "id": "3fd54caf"
   },
   "outputs": [],
   "source": [
    "train_x_list = pickle.load(open('train_x_list.pkl', 'rb'))"
   ]
  },
  {
   "cell_type": "code",
   "execution_count": 28,
   "id": "576765f3",
   "metadata": {
    "colab": {
     "base_uri": "https://localhost:8080/"
    },
    "id": "576765f3",
    "outputId": "2a7baf61-9168-4f2e-e365-a5e3ad27e990"
   },
   "outputs": [
    {
     "data": {
      "text/plain": [
       "[[5233, 11, 3083],\n",
       " [3083, 6, 11],\n",
       " [11, 227, 6],\n",
       " [6, 1, 227],\n",
       " [227, 3133, 1],\n",
       " [1, 44, 3133],\n",
       " [3133, 56, 44],\n",
       " [44, 153, 56],\n",
       " [56, 132, 153],\n",
       " [153, 741, 132]]"
      ]
     },
     "execution_count": 28,
     "metadata": {},
     "output_type": "execute_result"
    }
   ],
   "source": [
    "# These are (wc, wo) pairs. All are y = +1 by design.\n",
    "train_x_list[:10]"
   ]
  },
  {
   "cell_type": "code",
   "execution_count": 29,
   "id": "316df1dc",
   "metadata": {
    "colab": {
     "base_uri": "https://localhost:8080/"
    },
    "id": "316df1dc",
    "outputId": "49511794-2401-4732-c9a9-666ef109a899"
   },
   "outputs": [
    {
     "data": {
      "text/plain": [
       "32579"
      ]
     },
     "execution_count": 29,
     "metadata": {},
     "output_type": "execute_result"
    }
   ],
   "source": [
    "# The number of things of BATCH_SIZE = 512.\n",
    "len(train_x_list) // BATCH_SIZE"
   ]
  },
  {
   "cell_type": "code",
   "execution_count": 29,
   "id": "8012d03d",
   "metadata": {
    "id": "8012d03d"
   },
   "outputs": [],
   "source": []
  },
  {
   "cell_type": "markdown",
   "id": "488c3519",
   "metadata": {
    "id": "488c3519"
   },
   "source": [
    "### Set up the dataloader."
   ]
  },
  {
   "cell_type": "code",
   "execution_count": 30,
   "id": "2e31ae4b",
   "metadata": {
    "id": "2e31ae4b"
   },
   "outputs": [],
   "source": [
    "train_dl = DataLoader(\n",
    "    TensorDataset(\n",
    "        torch.tensor(train_x_list).to(DEVICE),\n",
    "    ),\n",
    "    batch_size=BATCH_SIZE,\n",
    "    shuffle=True\n",
    ")"
   ]
  },
  {
   "cell_type": "code",
   "execution_count": 31,
   "id": "fc51dd06",
   "metadata": {
    "id": "fc51dd06"
   },
   "outputs": [],
   "source": [
    "for xb in train_dl:\n",
    "    assert(xb[0].shape == (BATCH_SIZE, 3))\n",
    "    break"
   ]
  },
  {
   "cell_type": "code",
   "execution_count": 31,
   "id": "8c949153",
   "metadata": {
    "id": "8c949153"
   },
   "outputs": [],
   "source": []
  },
  {
   "cell_type": "markdown",
   "id": "12d93d22",
   "metadata": {
    "id": "12d93d22"
   },
   "source": [
    "### Words we'll use to asses the quality of the model ..."
   ]
  },
  {
   "cell_type": "code",
   "execution_count": 32,
   "id": "ffada8d0",
   "metadata": {
    "id": "ffada8d0"
   },
   "outputs": [],
   "source": [
    "valid_ids = torch.tensor([\n",
    "    stoi['money'],\n",
    "    stoi['lion'],\n",
    "    stoi['africa'],\n",
    "    stoi['musician'],\n",
    "    stoi['dance'],\n",
    "])"
   ]
  },
  {
   "cell_type": "code",
   "execution_count": 32,
   "id": "867d3a88",
   "metadata": {
    "id": "867d3a88"
   },
   "outputs": [],
   "source": []
  },
  {
   "cell_type": "markdown",
   "id": "64096cd8",
   "metadata": {
    "id": "64096cd8"
   },
   "source": [
    "### Get the model."
   ]
  },
  {
   "cell_type": "code",
   "execution_count": 33,
   "id": "dc51c359",
   "metadata": {
    "id": "dc51c359"
   },
   "outputs": [],
   "source": [
    "class CBOWNegativeSampling(nn.Module):\n",
    "    def __init__(self, vocab_size, embed_dim):\n",
    "        super(CBOWNegativeSampling, self).__init__()\n",
    "        self.A = nn.Embedding(vocab_size, embed_dim) # Context vectors - center word.\n",
    "        self.B = nn.Embedding(vocab_size, embed_dim) # Output vectors - words around the center word.\n",
    "        self.init_weights()\n",
    "\n",
    "    def init_weights(self):\n",
    "        # Is this the best way? Not sure.\n",
    "        initrange = 0.5\n",
    "        self.A.weight.data.uniform_(-initrange, initrange)\n",
    "        self.B.weight.data.uniform_(-initrange, initrange)\n",
    "\n",
    "    def forward(self, x):\n",
    "        # N is the batch size.\n",
    "        # x is (N, )\n",
    "\n",
    "        # Context words are 2m things, m = 1 so w_context is (N, 2) while wc is (N, 1)\n",
    "        w_context, wc = x[:, :-1], x[:, -1]\n",
    "\n",
    "        # Each of these is (N, 2, D) since each context has 2 word.\n",
    "        # We want this to be (N, 1, D)\n",
    "        a_avg = self.A(w_context).mean(axis=1)\n",
    "\n",
    "        # Each of these is (N, 1, D) since each target has 1 word.\n",
    "        b = self.B(wc)\n",
    "\n",
    "        # The product between each context and target vector.\n",
    "        # Each of these is (N, 1, D) since each batch has 1 word.\n",
    "        # The logits is now (N, 1) since we sum across the final dimension.\n",
    "        logits = (a_avg * b).sum(axis=-1)\n",
    "\n",
    "        return logits"
   ]
  },
  {
   "cell_type": "code",
   "execution_count": 33,
   "id": "7ae817c1",
   "metadata": {
    "id": "7ae817c1"
   },
   "outputs": [],
   "source": []
  },
  {
   "cell_type": "code",
   "execution_count": 34,
   "id": "ed9c509d",
   "metadata": {
    "id": "ed9c509d"
   },
   "outputs": [],
   "source": [
    "@torch.no_grad()\n",
    "def validate_embeddings(\n",
    "    model,\n",
    "    valid_ids,\n",
    "    itos\n",
    "):\n",
    "    \"\"\" Validation logic \"\"\"\n",
    "\n",
    "    # We will use context embeddings to get the most similar words\n",
    "    # Other strategies include: using target embeddings, mean embeddings after avaraging context/target\n",
    "    embedding_weights = model.A.weight\n",
    "\n",
    "    normalized_embeddings = embedding_weights.cpu() / np.sqrt(\n",
    "        np.sum(embedding_weights.cpu().numpy()**2, axis=1, keepdims=True)\n",
    "    )\n",
    "\n",
    "    # Get the embeddings corresponding to valid_term_ids\n",
    "    valid_embeddings = normalized_embeddings[valid_ids, :]\n",
    "\n",
    "    # Compute the similarity between valid_term_ids (S) and all the embeddings (V).\n",
    "    # We do S x d (d x V) => S x D and sort by negative similarity.\n",
    "    top_k = 10 # Top k items will be displayed.\n",
    "    similarity = np.dot(valid_embeddings.cpu().numpy(), normalized_embeddings.cpu().numpy().T)\n",
    "\n",
    "    # Invert similarity matrix to negative\n",
    "    # Ignore the first one because that would be the same word as the probe word\n",
    "    similarity_top_k = np.argsort(-similarity, axis=1)[:, 1: top_k+1]\n",
    "\n",
    "    # Print the output.\n",
    "    for i, word_id in enumerate(valid_ids):\n",
    "        # j >= 1 here since we don't want to include the word itself.\n",
    "        similar_word_str = ', '.join([itos[j] for j in similarity_top_k[i, :] if j >= 1])\n",
    "        print(f\"{itos[word_id]}: {similar_word_str}\")\n",
    "\n",
    "    print('\\n')"
   ]
  },
  {
   "cell_type": "code",
   "execution_count": 34,
   "id": "b0c194b8",
   "metadata": {
    "id": "b0c194b8"
   },
   "outputs": [],
   "source": []
  },
  {
   "cell_type": "markdown",
   "id": "3b3c6ed5",
   "metadata": {
    "id": "3b3c6ed5"
   },
   "source": [
    "### Set up the model"
   ]
  },
  {
   "cell_type": "code",
   "execution_count": 35,
   "id": "16da95d1",
   "metadata": {
    "id": "16da95d1"
   },
   "outputs": [],
   "source": [
    "LR = 10.0\n",
    "NUM_EPOCHS = 10\n",
    "EMBED_DIM = 300"
   ]
  },
  {
   "cell_type": "code",
   "execution_count": 36,
   "id": "cef585f4",
   "metadata": {
    "id": "cef585f4"
   },
   "outputs": [],
   "source": [
    "model = CBOWNegativeSampling(len(VOCAB), EMBED_DIM).to(DEVICE)\n",
    "optimizer = torch.optim.SGD(model.parameters(), lr=LR)\n",
    "# The learning rate is lowered every epoch by 1/10.\n",
    "# Is this a good idea?\n",
    "scheduler = torch.optim.lr_scheduler.StepLR(optimizer, 1, gamma=0.1)"
   ]
  },
  {
   "cell_type": "code",
   "execution_count": 37,
   "id": "f8a642bf",
   "metadata": {
    "colab": {
     "base_uri": "https://localhost:8080/"
    },
    "id": "f8a642bf",
    "outputId": "56d72260-4aec-4a00-ca3e-50a4adb6b6e9"
   },
   "outputs": [
    {
     "data": {
      "text/plain": [
       "CBOWNegativeSampling(\n",
       "  (A): Embedding(63641, 300)\n",
       "  (B): Embedding(63641, 300)\n",
       ")"
      ]
     },
     "execution_count": 37,
     "metadata": {},
     "output_type": "execute_result"
    }
   ],
   "source": [
    "model"
   ]
  },
  {
   "cell_type": "code",
   "execution_count": 38,
   "id": "85773616",
   "metadata": {
    "colab": {
     "base_uri": "https://localhost:8080/"
    },
    "id": "85773616",
    "outputId": "09354492-1a24-4e75-db6c-3a11d95726e0"
   },
   "outputs": [
    {
     "name": "stdout",
     "output_type": "stream",
     "text": [
      "money: festus, laon, mancha, kompiler, asean, verlag, necessitating, parr, constantine, disadvantaged\n",
      "lion: diabetics, kiswahili, jamming, shelby, nationally, mediating, gardens, redonda, fptp, skyhawk\n",
      "africa: plassey, ancus, taocp, kwon, preceding, rallying, substitutable, munro, manifesto, breaking\n",
      "musician: obito, unsustainable, transfusions, steppenwolf, histoire, rescues, elam, trailing, conurbations, bamberg\n",
      "dance: cosmonaut, cristian, gesta, jer, martyr, saya, maternally, houma, ellice, merry\n",
      "\n",
      "\n"
     ]
    }
   ],
   "source": [
    "validate_embeddings(model, valid_ids, itos)"
   ]
  },
  {
   "cell_type": "code",
   "execution_count": 38,
   "id": "66075f5e",
   "metadata": {
    "id": "66075f5e"
   },
   "outputs": [],
   "source": []
  },
  {
   "cell_type": "markdown",
   "id": "86476e2a",
   "metadata": {
    "id": "86476e2a"
   },
   "source": [
    "### Train the model"
   ]
  },
  {
   "cell_type": "code",
   "execution_count": 39,
   "id": "24950481",
   "metadata": {
    "id": "24950481"
   },
   "outputs": [],
   "source": [
    "ratios = []\n",
    "\n",
    "def train(dataloader, model, optimizer, epoch):\n",
    "    model.train()\n",
    "    total_acc, total_count, total_loss, total_batches = 0, 0, 0.0, 0.0\n",
    "    log_interval = 500\n",
    "\n",
    "    for idx, x_batch in tqdm(enumerate(dataloader)):\n",
    "\n",
    "        x_batch = x_batch[0]\n",
    "\n",
    "        batch_size = x_batch.shape[0]\n",
    "\n",
    "        optimizer.zero_grad()\n",
    "\n",
    "        logits = model(x_batch)\n",
    "\n",
    "        # Get the positive samples loss. Notice we use weights here.\n",
    "        positive_loss = torch.nn.BCEWithLogitsLoss()(input=logits, target=torch.ones(batch_size).to(DEVICE).float())\n",
    "\n",
    "        # For each batch, get some negative samples.\n",
    "        # We need a total of batch_size * K samples across a batch.\n",
    "        # We then reshape this batch.\n",
    "        # These are effectively the output words.\n",
    "        negative_samples = torch.multinomial(p, batch_size * K, replacement=True)\n",
    "\n",
    "        # Context words are 2m things, m = 1 so w_context is (N, 2) while wc is (N, 1)\n",
    "        w_context, wc = x_batch[:, :-1], x_batch[:, -1]\n",
    "\n",
    "        \"\"\"\n",
    "        if w_context looks like below (batch_size = 3)\n",
    "        [\n",
    "        a,\n",
    "        b,\n",
    "        c\n",
    "        ] and K = 2 we'd like to get:\n",
    "\n",
    "        [\n",
    "        a,\n",
    "        a,\n",
    "        b,\n",
    "        b,\n",
    "        c,\n",
    "        c\n",
    "        ]\n",
    "\n",
    "        This will be batch_size * K rows.\n",
    "        \"\"\"\n",
    "\n",
    "        # This should be (N * K, 2)\n",
    "        w_context = torch.concat([\n",
    "            w.repeat(K, 1) for w in torch.tensor(w_context).split(1)\n",
    "        ])\n",
    "\n",
    "        wc = negative_samples.unsqueeze(-1)\n",
    "\n",
    "        # Get the negative samples. This shoould be (N * K, 3).\n",
    "        x_batch_negative = torch.concat([w_context, wc.to(DEVICE)], axis=1)\n",
    "\n",
    "        \"\"\"\n",
    "        Note the way we formulated the targets: they are all 0 since these are negative samples.\n",
    "        We do the BCEWithLogitsLoss by hand basically here.\n",
    "        Notice we sum across the negative samples, per positive word.\n",
    "\n",
    "        This is literally the equation in the lecture notes.\n",
    "        \"\"\"\n",
    "\n",
    "        # (N, K, D) -> (N, D) -> (N)\n",
    "        negative_loss = model(x_batch_negative).neg().sigmoid().log().reshape(\n",
    "            batch_size, K\n",
    "        ).sum(1).mean().neg().to(DEVICE)\n",
    "\n",
    "        loss = (positive_loss + negative_loss).mean()\n",
    "\n",
    "        # Get the gradients via back propagation.\n",
    "        loss.backward()\n",
    "\n",
    "        # Clip the gradients? Generally a good idea.\n",
    "        torch.nn.utils.clip_grad_norm_(model.parameters(), 0.1)\n",
    "\n",
    "        # Used for optimization. This should be roughly 0.001, on average.\n",
    "        # You can use this to see if your learning rate is right - you can also plot the loss performance.\n",
    "        with torch.no_grad():\n",
    "            r = [\n",
    "                (LR * p.grad.std() / p.data.std()).log10().item() for _, p in model.named_parameters()\n",
    "            ]\n",
    "            ratios.append(r)\n",
    "\n",
    "        # Do an optimization step. Update the parameters A and B.\n",
    "        optimizer.step()\n",
    "        total_loss += loss.item()\n",
    "        total_batches += 1\n",
    "\n",
    "        if idx % log_interval == 0:\n",
    "            print(\n",
    "                \"| epoch {:3d} | {:5d}/{:5d} batches \"\n",
    "                \"| loss {:8.3f} \".format(\n",
    "                    epoch,\n",
    "                    idx,\n",
    "                    len(dataloader),\n",
    "                    total_loss / total_batches\n",
    "                )\n",
    "            )\n",
    "            validate_embeddings(model, valid_ids, itos)\n",
    "            total_loss, total_batches = 0.0, 0.0"
   ]
  },
  {
   "cell_type": "markdown",
   "id": "0764d675",
   "metadata": {
    "id": "0764d675"
   },
   "source": [
    "### Some results from the run look like below:\n",
    "\n",
    "Results?"
   ]
  },
  {
   "cell_type": "code",
   "execution_count": null,
   "id": "a9e02c09",
   "metadata": {
    "colab": {
     "base_uri": "https://localhost:8080/"
    },
    "id": "a9e02c09",
    "outputId": "95e8ab4b-9af2-4350-a735-48a012e09d5b"
   },
   "outputs": [
    {
     "metadata": {
      "tags": null
     },
     "name": "stderr",
     "output_type": "stream",
     "text": [
      "0it [00:00, ?it/s]<ipython-input-39-9065f14bb42d>:52: UserWarning: To copy construct from a tensor, it is recommended to use sourceTensor.clone().detach() or sourceTensor.clone().detach().requires_grad_(True), rather than torch.tensor(sourceTensor).\n",
      "  w.repeat(K, 1) for w in torch.tensor(w_context).split(1)\n",
      "1it [00:01,  1.87s/it]"
     ]
    },
    {
     "metadata": {
      "tags": null
     },
     "name": "stdout",
     "output_type": "stream",
     "text": [
      "| epoch   1 |     0/32580 batches | loss    4.136 \n",
      "money: festus, laon, mancha, kompiler, asean, verlag, necessitating, parr, constantine, disadvantaged\n",
      "lion: diabetics, kiswahili, jamming, shelby, nationally, mediating, gardens, redonda, fptp, skyhawk\n",
      "africa: plassey, ancus, taocp, kwon, preceding, rallying, substitutable, munro, manifesto, breaking\n",
      "musician: obito, unsustainable, transfusions, steppenwolf, histoire, rescues, elam, trailing, conurbations, bamberg\n",
      "dance: cosmonaut, cristian, gesta, jer, martyr, saya, houma, maternally, ellice, merry\n",
      "\n",
      "\n"
     ]
    },
    {
     "metadata": {
      "tags": null
     },
     "name": "stderr",
     "output_type": "stream",
     "text": [
      "501it [02:11,  3.05it/s]"
     ]
    },
    {
     "metadata": {
      "tags": null
     },
     "name": "stdout",
     "output_type": "stream",
     "text": [
      "| epoch   1 |   500/32580 batches | loss    3.713 \n",
      "money: festus, laon, asean, verlag, mancha, kompiler, necessitating, parr, constantine, disadvantaged\n",
      "lion: diabetics, kiswahili, jamming, nationally, shelby, mediating, gardens, mandate, redonda, skyhawk\n",
      "africa: plassey, taocp, ancus, kwon, preceding, rallying, substitutable, manifesto, munro, occur\n",
      "musician: obito, histoire, transfusions, unsustainable, steppenwolf, trailing, rescues, elam, conurbations, bamberg\n",
      "dance: cosmonaut, gesta, cristian, jer, martyr, saya, maternally, ellice, houma, merry\n",
      "\n",
      "\n"
     ]
    },
    {
     "metadata": {
      "tags": null
     },
     "name": "stderr",
     "output_type": "stream",
     "text": [
      "1001it [04:34,  2.99it/s]"
     ]
    },
    {
     "metadata": {
      "tags": null
     },
     "name": "stdout",
     "output_type": "stream",
     "text": [
      "| epoch   1 |  1000/32580 batches | loss    3.355 \n",
      "money: festus, laon, asean, verlag, parr, mancha, necessitating, kompiler, constantine, disadvantaged\n",
      "lion: diabetics, kiswahili, jamming, shelby, nationally, mediating, gardens, mandate, redonda, fptp\n",
      "africa: taocp, plassey, kwon, ancus, rallying, preceding, substitutable, manifesto, munro, occur\n",
      "musician: obito, transfusions, histoire, unsustainable, steppenwolf, rescues, trailing, master, bamberg, conurbations\n",
      "dance: cosmonaut, gesta, cristian, jer, martyr, saya, maternally, earle, houma, ellice\n",
      "\n",
      "\n"
     ]
    },
    {
     "metadata": {
      "tags": null
     },
     "name": "stderr",
     "output_type": "stream",
     "text": [
      "1501it [06:55,  3.30it/s]"
     ]
    },
    {
     "metadata": {
      "tags": null
     },
     "name": "stdout",
     "output_type": "stream",
     "text": [
      "| epoch   1 |  1500/32580 batches | loss    3.022 \n",
      "money: festus, asean, verlag, parr, laon, mancha, constantine, necessitating, kompiler, disadvantaged\n",
      "lion: diabetics, kiswahili, jamming, shelby, nationally, mediating, gardens, redonda, skyhawk, mandate\n",
      "africa: ancus, kwon, taocp, plassey, rallying, manifesto, substitutable, preceding, occur, munro\n",
      "musician: obito, transfusions, histoire, unsustainable, rescues, steppenwolf, view, trailing, master, ewald\n",
      "dance: cosmonaut, gesta, jer, cristian, martyr, earle, maternally, saya, houma, littoral\n",
      "\n",
      "\n"
     ]
    },
    {
     "metadata": {
      "tags": null
     },
     "name": "stderr",
     "output_type": "stream",
     "text": [
      "2001it [09:16,  3.34it/s]"
     ]
    },
    {
     "metadata": {
      "tags": null
     },
     "name": "stdout",
     "output_type": "stream",
     "text": [
      "| epoch   1 |  2000/32580 batches | loss    2.790 \n",
      "money: asean, parr, festus, verlag, constantine, laon, mancha, disadvantaged, obedience, necessitating\n",
      "lion: diabetics, kiswahili, jamming, nationally, shelby, mediating, gardens, redonda, skyhawk, fptp\n",
      "africa: ancus, kwon, taocp, manifesto, plassey, rallying, occur, substitutable, preceding, munro\n",
      "musician: obito, transfusions, histoire, ewald, unsustainable, rescues, steppenwolf, view, trailing, menander\n",
      "dance: cosmonaut, gesta, jer, cristian, martyr, earle, maternally, european, maimed, littoral\n",
      "\n",
      "\n"
     ]
    },
    {
     "name": "stderr",
     "output_type": "stream",
     "text": [
      "2501it [11:37,  3.36it/s]"
     ]
    },
    {
     "name": "stdout",
     "output_type": "stream",
     "text": [
      "| epoch   1 |  2500/32580 batches | loss    2.621 \n",
      "money: parr, asean, festus, constantine, where, laon, verlag, mancha, leo, were\n",
      "lion: diabetics, kiswahili, nationally, jamming, shelby, gardens, mediating, redonda, skyhawk, fptp\n",
      "africa: kwon, ancus, manifesto, taocp, plassey, occur, rallying, substitutable, over, breaking\n",
      "musician: transfusions, obito, ewald, histoire, view, master, rescues, unsustainable, menander, trailing\n",
      "dance: cosmonaut, gesta, martyr, jer, cristian, maimed, european, earle, houma, maternally\n",
      "\n",
      "\n"
     ]
    },
    {
     "name": "stderr",
     "output_type": "stream",
     "text": [
      "2523it [11:43,  3.72it/s]"
     ]
    }
   ],
   "source": [
    "for epoch in range(1, NUM_EPOCHS + 1):\n",
    "    epoch_start_time = time.time()\n",
    "\n",
    "    train(train_dl, model, optimizer, epoch)\n",
    "    # We have a learning rate scheduler here.\n",
    "    # Basically, given the state of the optimizer, this lowers the learning rate in a smart way.\n",
    "    scheduler.step()"
   ]
  },
  {
   "cell_type": "code",
   "execution_count": null,
   "id": "b0227888",
   "metadata": {
    "id": "b0227888"
   },
   "outputs": [],
   "source": []
  },
  {
   "cell_type": "markdown",
   "id": "7187dcf9",
   "metadata": {
    "id": "7187dcf9"
   },
   "source": [
    "### Some diagnostics."
   ]
  },
  {
   "cell_type": "markdown",
   "id": "ae40d972",
   "metadata": {
    "id": "ae40d972"
   },
   "source": [
    "Sometimes you want to add diagnostics to your NN.\n",
    "- For each iteration, get the $L_2$ norm of the gradients* learning_rate and divide this by the parameters. This should be about -3 on the log scale, i.e. the ratio should be about 0.001. If the ratios are smaller, the learning rate might be too small, otherwise too large. Below we do this for the Skip-Gram model above.\n"
   ]
  },
  {
   "cell_type": "code",
   "execution_count": null,
   "id": "f5d9d9e3",
   "metadata": {
    "id": "f5d9d9e3"
   },
   "outputs": [],
   "source": [
    "import matplotlib.pyplot as plt\n",
    "plt.figure(figsize=(20, 4))\n",
    "legends = []\n",
    "for i, (name, p) in enumerate(model.named_parameters()):\n",
    "    plt.plot([ratios[j][i] for j in range(len(ratios))])\n",
    "    legends.append('param {}'.format(name))\n",
    "plt.plot([0, len(ratios)], [-3, -3], 'r')\n",
    "plt.legend(legends)"
   ]
  },
  {
   "cell_type": "markdown",
   "id": "c013aadc",
   "metadata": {
    "id": "c013aadc"
   },
   "source": [
    "How do you make sure the learing rate is good? Look at the above plots and suppose we have $log(LR * ratio) = -5$. Then $LR * ratio = 10^{-5}$. Assuming the ratio does not vary much, this probably means we need to increase the learing rate $LR$. Similarly for a reverse direction."
   ]
  },
  {
   "cell_type": "code",
   "execution_count": null,
   "id": "c08e311d",
   "metadata": {
    "id": "c08e311d"
   },
   "outputs": [],
   "source": []
  }
 ],
 "metadata": {
  "colab": {
   "provenance": []
  },
  "kernelspec": {
   "display_name": "Python 3 (ipykernel)",
   "language": "python",
   "name": "python3"
  },
  "language_info": {
   "codemirror_mode": {
    "name": "ipython",
    "version": 3
   },
   "file_extension": ".py",
   "mimetype": "text/x-python",
   "name": "python",
   "nbconvert_exporter": "python",
   "pygments_lexer": "ipython3",
   "version": "3.8.15"
  }
 },
 "nbformat": 4,
 "nbformat_minor": 5
}
