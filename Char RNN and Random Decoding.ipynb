{
  "cells": [
    {
      "cell_type": "code",
      "execution_count": 5,
      "id": "97ab5757",
      "metadata": {
        "id": "97ab5757"
      },
      "outputs": [],
      "source": [
        "from tqdm import tqdm\n",
        "import torch.nn as nn\n",
        "import numpy as np\n",
        "import torch\n",
        "from torch.utils.data import Dataset\n",
        "from torch.utils.data import DataLoader"
      ]
    },
    {
      "cell_type": "code",
      "execution_count": 5,
      "id": "7bd215dd",
      "metadata": {
        "id": "7bd215dd"
      },
      "outputs": [],
      "source": []
    },
    {
      "cell_type": "markdown",
      "id": "64c0320b",
      "metadata": {
        "id": "64c0320b"
      },
      "source": [
        "### Get the data and process\n",
        "- This is the Mysterious island found in Project Gutenberg."
      ]
    },
    {
      "cell_type": "code",
      "source": [
        "## Reading and processing text\n",
        "from google.colab import drive\n",
        "drive.mount('/content/drive')"
      ],
      "metadata": {
        "colab": {
          "base_uri": "https://localhost:8080/"
        },
        "id": "MvxHxyksEJ6x",
        "outputId": "98171356-98ed-420a-c75f-4cca1734bb0c"
      },
      "id": "MvxHxyksEJ6x",
      "execution_count": 6,
      "outputs": [
        {
          "output_type": "stream",
          "name": "stdout",
          "text": [
            "Drive already mounted at /content/drive; to attempt to forcibly remount, call drive.mount(\"/content/drive\", force_remount=True).\n"
          ]
        }
      ]
    },
    {
      "cell_type": "code",
      "execution_count": 7,
      "id": "d4e64a98",
      "metadata": {
        "id": "d4e64a98",
        "outputId": "5e0a9239-9c61-435e-8fe0-f4dd3c076493",
        "colab": {
          "base_uri": "https://localhost:8080/"
        }
      },
      "outputs": [
        {
          "output_type": "stream",
          "name": "stdout",
          "text": [
            "Total Length: 1112300\n",
            "Unique Characters: 80\n"
          ]
        }
      ],
      "source": [
        "with open('/content/drive/MyDrive/Data/1268-0.txt', 'r', encoding=\"utf8\") as fp:\n",
        "    text=fp.read()\n",
        "\n",
        "start_indx = text.find('THE MYSTERIOUS ISLAND')\n",
        "end_indx = text.find('END OF THE PROJECT GUTENBERG')\n",
        "\n",
        "text = text[start_indx:end_indx]\n",
        "char_set = set(text)\n",
        "print('Total Length:', len(text))\n",
        "print('Unique Characters:', len(char_set))\n",
        "assert(len(text) == 1112300)\n",
        "assert(len(char_set) == 80)\n",
        "assert(start_indx == 766)\n",
        "assert(end_indx == 1113066)"
      ]
    },
    {
      "cell_type": "markdown",
      "id": "76393bdb",
      "metadata": {
        "id": "76393bdb"
      },
      "source": [
        "### Tokenze and get other helpers\n",
        "- We do this manually since everything is character based."
      ]
    },
    {
      "cell_type": "code",
      "execution_count": 8,
      "id": "3a445114",
      "metadata": {
        "id": "3a445114",
        "outputId": "c02da430-25e4-4c2a-e7f4-697c29de1bb9",
        "colab": {
          "base_uri": "https://localhost:8080/"
        }
      },
      "outputs": [
        {
          "output_type": "stream",
          "name": "stdout",
          "text": [
            "Text encoded shape:  (1112300,)\n",
            "THE MYSTERIOUS       == Encoding ==>  [44 32 29  1 37 48 43 44 29 42 33 39 45 43  1]\n",
            "[33 43 36 25 38 28]  == Reverse  ==>  ISLAND\n"
          ]
        }
      ],
      "source": [
        "# The universe of words.\n",
        "chars_sorted = sorted(char_set)\n",
        "\n",
        "# Effectively, these maps are the tokenizer.\n",
        "char2int = {ch:i for i,ch in enumerate(chars_sorted)}\n",
        "int2char = np.array(chars_sorted)\n",
        "\n",
        "# Tokenize the entire corpus.\n",
        "text_encoded = np.array(\n",
        "    [char2int[ch] for ch in text],\n",
        "    dtype=np.int32)\n",
        "\n",
        "print('Text encoded shape: ', text_encoded.shape)\n",
        "\n",
        "print(text[:15], '     == Encoding ==> ', text_encoded[:15])\n",
        "print(text_encoded[15:21], ' == Reverse  ==> ', ''.join(int2char[text_encoded[15:21]]))"
      ]
    },
    {
      "cell_type": "code",
      "execution_count": 8,
      "id": "0d8e0270",
      "metadata": {
        "id": "0d8e0270"
      },
      "outputs": [],
      "source": []
    },
    {
      "cell_type": "markdown",
      "id": "720cd752",
      "metadata": {
        "id": "720cd752"
      },
      "source": [
        "#### Examples"
      ]
    },
    {
      "cell_type": "code",
      "execution_count": 9,
      "id": "e2743a57",
      "metadata": {
        "id": "e2743a57",
        "outputId": "b1ca02b4-cc26-4dbd-b31e-3ac5d1066af1",
        "colab": {
          "base_uri": "https://localhost:8080/"
        }
      },
      "outputs": [
        {
          "output_type": "stream",
          "name": "stdout",
          "text": [
            "Text encoded shape:  (1112300,)\n",
            "THE MYSTERIOUS       == Encoding ==>  [44 32 29  1 37 48 43 44 29 42 33 39 45 43  1]\n",
            "[33 43 36 25 38 28]  == Reverse  ==>  ISLAND\n"
          ]
        }
      ],
      "source": [
        "print('Text encoded shape: ', text_encoded.shape)\n",
        "print(text[:15], '     == Encoding ==> ', text_encoded[:15])\n",
        "print(text_encoded[15:21], ' == Reverse  ==> ', ''.join(int2char[text_encoded[15:21]]))"
      ]
    },
    {
      "cell_type": "code",
      "execution_count": 10,
      "id": "2cdcafe4",
      "metadata": {
        "id": "2cdcafe4"
      },
      "outputs": [],
      "source": []
    },
    {
      "cell_type": "markdown",
      "id": "0c418ca0",
      "metadata": {
        "id": "0c418ca0"
      },
      "source": [
        "### Process the data and get the data loader"
      ]
    },
    {
      "cell_type": "code",
      "execution_count": 11,
      "id": "f429dc3d",
      "metadata": {
        "id": "f429dc3d"
      },
      "outputs": [],
      "source": [
        "seq_length = 40\n",
        "chunk_size = seq_length + 1\n",
        "\n",
        "text_chunks = [text_encoded[i:i+chunk_size]\n",
        "               for i in range(len(text_encoded)-chunk_size+1)]"
      ]
    },
    {
      "cell_type": "code",
      "execution_count": 12,
      "id": "e329fffd",
      "metadata": {
        "id": "e329fffd",
        "outputId": "79615052-f291-46d6-d0d5-d5940dd49e89",
        "colab": {
          "base_uri": "https://localhost:8080/"
        }
      },
      "outputs": [
        {
          "output_type": "stream",
          "name": "stderr",
          "text": [
            "<ipython-input-12-828c958ba4ba>:12: UserWarning: Creating a tensor from a list of numpy.ndarrays is extremely slow. Please consider converting the list to a single numpy.ndarray with numpy.array() before converting to a tensor. (Triggered internally at ../torch/csrc/utils/tensor_new.cpp:261.)\n",
            "  seq_dataset = TextDataset(torch.tensor(text_chunks))\n"
          ]
        }
      ],
      "source": [
        "class TextDataset(Dataset):\n",
        "    def __init__(self, text_chunks):\n",
        "        self.text_chunks = text_chunks\n",
        "\n",
        "    def __len__(self):\n",
        "        return len(self.text_chunks)\n",
        "\n",
        "    def __getitem__(self, idx):\n",
        "        text_chunk = self.text_chunks[idx]\n",
        "        return text_chunk[:-1].long(), text_chunk[1:].long()\n",
        "\n",
        "seq_dataset = TextDataset(torch.tensor(text_chunks))"
      ]
    },
    {
      "cell_type": "code",
      "execution_count": 13,
      "id": "71328555",
      "metadata": {
        "id": "71328555",
        "outputId": "fec11cdd-aae9-4a97-cfd2-6291cc8f08f1",
        "colab": {
          "base_uri": "https://localhost:8080/"
        }
      },
      "outputs": [
        {
          "output_type": "stream",
          "name": "stdout",
          "text": [
            "torch.Size([40]) torch.Size([40])\n",
            "Input (x): 'THE MYSTERIOUS ISLAND ***\\n\\n\\n\\n\\nTHE MYSTER'\n",
            "Target (y): 'HE MYSTERIOUS ISLAND ***\\n\\n\\n\\n\\nTHE MYSTERI'\n",
            "\n",
            "torch.Size([40]) torch.Size([40])\n",
            "Input (x): 'HE MYSTERIOUS ISLAND ***\\n\\n\\n\\n\\nTHE MYSTERI'\n",
            "Target (y): 'E MYSTERIOUS ISLAND ***\\n\\n\\n\\n\\nTHE MYSTERIO'\n",
            "\n"
          ]
        }
      ],
      "source": [
        "for i, (seq, target) in enumerate(seq_dataset):\n",
        "    # 40 characters for source and target ...\n",
        "    print(seq.shape, target.shape)\n",
        "    print('Input (x):', repr(''.join(int2char[seq])))\n",
        "    print('Target (y):', repr(''.join(int2char[target])))\n",
        "    print()\n",
        "    if i == 1:\n",
        "        break"
      ]
    },
    {
      "cell_type": "code",
      "execution_count": 14,
      "id": "ebb989c3",
      "metadata": {
        "id": "ebb989c3"
      },
      "outputs": [],
      "source": [
        "device = torch.device(\"cpu\")"
      ]
    },
    {
      "cell_type": "code",
      "execution_count": 15,
      "id": "a881b316",
      "metadata": {
        "id": "a881b316"
      },
      "outputs": [],
      "source": [
        "batch_size = 64\n",
        "torch.manual_seed(1)\n",
        "seq_dl = DataLoader(seq_dataset, batch_size=batch_size, shuffle=True, drop_last=True)"
      ]
    },
    {
      "cell_type": "code",
      "execution_count": 15,
      "id": "0f77f7f8",
      "metadata": {
        "id": "0f77f7f8"
      },
      "outputs": [],
      "source": []
    },
    {
      "cell_type": "markdown",
      "id": "45ed0b2f",
      "metadata": {
        "id": "45ed0b2f"
      },
      "source": [
        "### Write the models"
      ]
    },
    {
      "cell_type": "code",
      "execution_count": 16,
      "id": "1b4cbf1e",
      "metadata": {
        "id": "1b4cbf1e"
      },
      "outputs": [],
      "source": [
        "class RNN(nn.Module):\n",
        "    def __init__(self, vocab_size, embed_dim, rnn_hidden_size):\n",
        "        super().__init__()\n",
        "        self.embedding = nn.Embedding(vocab_size, embed_dim)\n",
        "        self.rnn_hidden_size = rnn_hidden_size\n",
        "        self.rnn = nn.LSTM(\n",
        "            embed_dim,\n",
        "            rnn_hidden_size,\n",
        "            batch_first=True\n",
        "        )\n",
        "        self.fc = nn.Linear(rnn_hidden_size, vocab_size)\n",
        "\n",
        "    def forward(self, text, hidden=None, cell=None):\n",
        "        out = self.embedding(text)\n",
        "\n",
        "        if hidden is not None:\n",
        "            out, (hidden, cell) = self.rnn(out, (hidden, cell))\n",
        "        else:\n",
        "            out, (hidden, cell) = self.rnn(out)\n",
        "\n",
        "        out = self.fc(out)\n",
        "\n",
        "        return out, (hidden, cell)\n",
        "\n",
        "    def init_hidden(self, batch_size):\n",
        "        hidden = torch.zeros(1, batch_size, self.rnn_hidden_size)\n",
        "        cell = torch.zeros(1, batch_size, self.rnn_hidden_size)\n",
        "        return hidden.to(device), cell.to(device)"
      ]
    },
    {
      "cell_type": "code",
      "execution_count": 16,
      "id": "f16c03dc",
      "metadata": {
        "id": "f16c03dc"
      },
      "outputs": [],
      "source": []
    },
    {
      "cell_type": "markdown",
      "id": "00789dfd",
      "metadata": {
        "id": "00789dfd"
      },
      "source": [
        "### Do this right way - across all data all at once!"
      ]
    },
    {
      "cell_type": "code",
      "execution_count": 17,
      "id": "33380607",
      "metadata": {
        "id": "33380607",
        "outputId": "442eea96-f3e7-4524-b0b1-4002ba330ca5",
        "colab": {
          "base_uri": "https://localhost:8080/"
        }
      },
      "outputs": [
        {
          "output_type": "execute_result",
          "data": {
            "text/plain": [
              "RNN(\n",
              "  (embedding): Embedding(80, 256)\n",
              "  (rnn): LSTM(256, 512, batch_first=True)\n",
              "  (fc): Linear(in_features=512, out_features=80, bias=True)\n",
              ")"
            ]
          },
          "metadata": {},
          "execution_count": 17
        }
      ],
      "source": [
        "vocab_size = len(int2char)\n",
        "embed_dim = 256\n",
        "rnn_hidden_size = 512\n",
        "\n",
        "torch.manual_seed(1)\n",
        "model = RNN(vocab_size, embed_dim, rnn_hidden_size)\n",
        "model = model.to(device)\n",
        "model"
      ]
    },
    {
      "cell_type": "code",
      "execution_count": null,
      "id": "2f47f48a",
      "metadata": {
        "id": "2f47f48a",
        "outputId": "a956b38d-af54-451f-9974-a256bf694c31",
        "colab": {
          "base_uri": "https://localhost:8080/"
        }
      },
      "outputs": [
        {
          "output_type": "stream",
          "name": "stdout",
          "text": [
            "Epoch 0 loss: 4.3720\n",
            "Epoch 10 loss: 2.5053\n",
            "Epoch 20 loss: 2.2534\n",
            "Epoch 30 loss: 2.0950\n",
            "Epoch 40 loss: 2.0144\n",
            "Epoch 50 loss: 1.8707\n",
            "Epoch 60 loss: 1.8163\n",
            "Epoch 70 loss: 1.7993\n",
            "Epoch 80 loss: 1.7736\n",
            "Epoch 90 loss: 1.7415\n",
            "Epoch 100 loss: 1.6978\n",
            "Epoch 110 loss: 1.7108\n",
            "Epoch 120 loss: 1.6233\n",
            "Epoch 130 loss: 1.6114\n",
            "Epoch 140 loss: 1.5823\n",
            "Epoch 150 loss: 1.5776\n",
            "Epoch 160 loss: 1.6101\n",
            "Epoch 170 loss: 1.5327\n",
            "Epoch 180 loss: 1.4949\n",
            "Epoch 190 loss: 1.5807\n",
            "Epoch 200 loss: 1.5527\n",
            "Epoch 210 loss: 1.5177\n",
            "Epoch 220 loss: 1.4924\n",
            "Epoch 230 loss: 1.5106\n",
            "Epoch 240 loss: 1.5058\n",
            "Epoch 250 loss: 1.4681\n",
            "Epoch 260 loss: 1.5263\n",
            "Epoch 270 loss: 1.5178\n",
            "Epoch 280 loss: 1.4628\n",
            "Epoch 290 loss: 1.4473\n"
          ]
        }
      ],
      "source": [
        "criterion = nn.CrossEntropyLoss()\n",
        "optimizer = torch.optim.Adam(model.parameters(), lr=0.005)\n",
        "\n",
        "num_epochs = 5000\n",
        "\n",
        "torch.manual_seed(1)\n",
        "\n",
        "for epoch in range(num_epochs):\n",
        "    hidden, cell = model.init_hidden(batch_size)\n",
        "\n",
        "    seq_batch, target_batch = next(iter(seq_dl))\n",
        "\n",
        "    seq_batch = seq_batch.to(device)\n",
        "    target_batch = target_batch.to(device)\n",
        "\n",
        "    optimizer.zero_grad()\n",
        "\n",
        "    loss = 0\n",
        "\n",
        "    # Specify these. This is the same as the first RNN, but this one you can trace.\n",
        "    hidden, cell = model.init_hidden(batch_size)\n",
        "\n",
        "    logits, _ = model(seq_batch, hidden, cell)\n",
        "\n",
        "    loss += criterion(logits.view(logits.size(0) * logits.size(1), -1), target_batch.view(-1))\n",
        "\n",
        "    loss.backward()\n",
        "\n",
        "    optimizer.step()\n",
        "\n",
        "    loss = loss.item()\n",
        "\n",
        "    if epoch % 10 == 0:\n",
        "        print(f'Epoch {epoch} loss: {loss:.4f}')"
      ]
    },
    {
      "cell_type": "code",
      "execution_count": null,
      "id": "cec22f67",
      "metadata": {
        "id": "cec22f67"
      },
      "outputs": [],
      "source": []
    },
    {
      "cell_type": "code",
      "execution_count": null,
      "id": "0f398f67",
      "metadata": {
        "id": "0f398f67"
      },
      "outputs": [],
      "source": [
        "from torch.distributions.categorical import Categorical\n",
        "\n",
        "torch.manual_seed(1)\n",
        "\n",
        "logits = torch.tensor([[-1.0, 1.0, 3.0]])\n",
        "\n",
        "print('Probabilities:', nn.Softmax(dim=1)(logits).numpy())\n",
        "\n",
        "m = Categorical(logits=logits)\n",
        "samples = m.sample((10,))\n",
        "\n",
        "print(samples.numpy())"
      ]
    },
    {
      "cell_type": "code",
      "execution_count": null,
      "id": "81ec176d",
      "metadata": {
        "id": "81ec176d"
      },
      "outputs": [],
      "source": []
    },
    {
      "cell_type": "markdown",
      "id": "0547467d",
      "metadata": {
        "id": "0547467d"
      },
      "source": [
        "### Random decoding.\n",
        "- This compounds problems: once you make a mistake, you can't undo it."
      ]
    },
    {
      "cell_type": "code",
      "execution_count": null,
      "id": "614fb236",
      "metadata": {
        "id": "614fb236"
      },
      "outputs": [],
      "source": [
        "def random_sample(\n",
        "    model,\n",
        "    starting_str,\n",
        "    len_generated_text=500,\n",
        "    T = 1.0\n",
        "):\n",
        "\n",
        "    encoded_input = torch.tensor([char2int[s] for s in starting_str])\n",
        "\n",
        "    encoded_input = torch.reshape(encoded_input, (1, -1))\n",
        "\n",
        "    generated_str = starting_str\n",
        "\n",
        "    model.eval()\n",
        "\n",
        "    hidden, cell = model.init_hidden(1)\n",
        "\n",
        "    hidden = hidden.to(device)\n",
        "\n",
        "    cell = cell.to(device)\n",
        "\n",
        "    # Build up the starting hidden and cell states.\n",
        "    # You can do this all in one go?\n",
        "    for c in range(len(starting_str)-1):\n",
        "        # Feed each letter 1 by 1 and then get the final hidden state.\n",
        "        out = encoded_input[:, c].reshape(1, 1)\n",
        "        _, (hidden, cell) = model(out, hidden, cell)\n",
        "\n",
        "    last_char = encoded_input[:, -1]\n",
        "    for i in range(len_generated_text):\n",
        "\n",
        "        logits, (hidden, cell) = model(last_char.reshape(1, 1), hidden, cell)\n",
        "\n",
        "        logits = torch.squeeze(logits, 0)\n",
        "\n",
        "        # Use temperature scaling here. For the HW, just do T = 1\n",
        "        m = Categorical(logits=logits / T)\n",
        "\n",
        "        last_char = m.sample()\n",
        "\n",
        "        generated_str += str(int2char[last_char])\n",
        "\n",
        "    return generated_str\n",
        "\n",
        "torch.manual_seed(1)\n",
        "model.to(device)\n",
        "print(random_sample(model, starting_str='The island'))"
      ]
    },
    {
      "cell_type": "code",
      "execution_count": null,
      "id": "83f58492",
      "metadata": {
        "id": "83f58492"
      },
      "outputs": [],
      "source": []
    },
    {
      "cell_type": "markdown",
      "id": "0764392a",
      "metadata": {
        "id": "0764392a"
      },
      "source": [
        "### Beam search algorithm.\n",
        "- Good article: https://towardsdatascience.com/foundations-of-nlp-explained-visually-beam-search-how-it-works-1586b9849a24"
      ]
    },
    {
      "cell_type": "code",
      "execution_count": null,
      "id": "28c6218f",
      "metadata": {
        "id": "28c6218f"
      },
      "outputs": [],
      "source": [
        "def beam_search_sample(\n",
        "    model,\n",
        "    starting_str,\n",
        "    len_generated_text=500,\n",
        "    beams=5,\n",
        "    print_paths=True\n",
        "):\n",
        "\n",
        "    encoded_input = torch.tensor([char2int[s] for s in starting_str])\n",
        "\n",
        "    encoded_input = torch.reshape(encoded_input, (1, -1))\n",
        "\n",
        "    generated_str = starting_str\n",
        "\n",
        "    model.eval()\n",
        "\n",
        "    hidden, cell = model.init_hidden(1)\n",
        "\n",
        "    hidden = hidden.to(device)\n",
        "\n",
        "    cell = cell.to(device)\n",
        "\n",
        "    # Build up the starting hidden and cell states.\n",
        "    # You can do this all in one go?\n",
        "    for i in range(len(starting_str)-1):\n",
        "        # Feed each letter 1 by 1 and then get the final hidden state.\n",
        "        out = encoded_input[:, i].reshape(1, 1)\n",
        "        _, (hidden, cell) = model(out, hidden, cell)\n",
        "\n",
        "    beam_to_beam_data = {}\n",
        "    for beam in range(beams):\n",
        "        beam_to_beam_data[beam] = (hidden, cell, [char2int[generated_str[-1]]], generated_str, 0.0)\n",
        "\n",
        "    for i in range(len_generated_text):\n",
        "        new_beams = []\n",
        "\n",
        "        for beam in range(beams):\n",
        "            (hidden, cell, generated_char, generated_str, generated_log_prob) = beam_to_beam_data[beam]\n",
        "\n",
        "            last_char_int = torch.tensor(generated_char[-1]).reshape(1, 1)\n",
        "\n",
        "            logits, (hidden, cell) = model(last_char_int, hidden, cell)\n",
        "\n",
        "            probs = nn.Softmax(dim=1)(logits.squeeze(1)).squeeze()\n",
        "\n",
        "            for j, prob in enumerate(probs):\n",
        "                new_beams.append(\n",
        "                    (\n",
        "                        hidden,\n",
        "                        cell,\n",
        "                        generated_char + [j],\n",
        "                        generated_str + int2char[j],\n",
        "                        generated_log_prob + np.log(prob.item())\n",
        "                    )\n",
        "                )\n",
        "\n",
        "        new_beams_to_hidden_cell = {}\n",
        "\n",
        "        for data in new_beams:\n",
        "            hidden, cell, generated_char, generated_str, generated_log_prob = data\n",
        "            new_beams_to_hidden_cell[\n",
        "                (generated_str, generated_log_prob)\n",
        "            ] = (hidden, cell, generated_char)\n",
        "\n",
        "        new_beams = []\n",
        "\n",
        "        for generated_str_generated_prob, hidden_cell_generated_char in new_beams_to_hidden_cell.items():\n",
        "            generated_str, generated_log_prob = generated_str_generated_prob\n",
        "            hidden, cell, generated_char = hidden_cell_generated_char\n",
        "            new_beams.append(\n",
        "                (hidden, cell, generated_char, generated_str, generated_log_prob)\n",
        "            )\n",
        "\n",
        "        # Sort the beams from most proable to least. Use -log(p).\n",
        "        new_beams = sorted(new_beams, key = lambda beam_data: -beam_data[-1])\n",
        "\n",
        "        # The number of beams considered should always satisfy this.\n",
        "        # Except for the first iteration.\n",
        "        print(\n",
        "            \"The number of beams is {}, the number of expected beams {} \".format(\n",
        "                len(new_beams), beams * len(char2int))\n",
        "        )\n",
        "\n",
        "        if print_paths:\n",
        "            print(\"The first 5 paths beam paths and the associated data for them: \")\n",
        "            for beam in range(5):\n",
        "                generated_char, generated_str, generated_log_prob = new_beams[beam][2:]\n",
        "                print(\"Generated char indices: {} Generated Text: \\\"{}\\\" Generated Prob {:0.10f}\".format(\n",
        "                        generated_char[-7:], generated_str, np.exp(generated_log_prob)\n",
        "                ))\n",
        "            _ = input(\"Insert anything to continue ...\")\n",
        "\n",
        "\n",
        "        for beam in range(beams):\n",
        "            beam_to_beam_data[beam] = new_beams[beam]\n",
        "\n",
        "        if print_paths:\n",
        "            print(\"Current beams considered: \")\n",
        "            for beam, beam_data in beam_to_beam_data.items():\n",
        "                print(beam, beam_data[-2])\n",
        "            print(\"\\n\")\n",
        "\n",
        "    generated_strs = []\n",
        "    generated_chars = []\n",
        "    generated_log_probs = []\n",
        "\n",
        "    for beam in range(beams):\n",
        "        (_, _, generated_char, generated_str, generated_log_prob) = beam_to_beam_data[beam]\n",
        "        generated_strs.append(generated_str)\n",
        "        generated_log_probs.append(generated_log_prob)\n",
        "        generated_chars.append(generated_char)\n",
        "\n",
        "\n",
        "    return generated_strs, generated_chars, [np.exp(_) for _ in generated_log_probs]"
      ]
    },
    {
      "cell_type": "code",
      "execution_count": null,
      "id": "1ffe62bf",
      "metadata": {
        "id": "1ffe62bf"
      },
      "outputs": [],
      "source": [
        "torch.manual_seed(1)\n",
        "model.to('cpu')\n",
        "beams = 2\n",
        "\n",
        "generated_strs, generated_chars, generated_probs = beam_search_sample(model, starting_str=\"The island\", beams=5)\n",
        "\n",
        "for beam in range(beams):\n",
        "    print(f\"Beam {beam} information: \")\n",
        "    print(generated_strs[beam])\n",
        "    print(generated_probs[beam])\n"
      ]
    },
    {
      "cell_type": "code",
      "execution_count": null,
      "id": "9ea2b1cc",
      "metadata": {
        "id": "9ea2b1cc"
      },
      "outputs": [],
      "source": []
    }
  ],
  "metadata": {
    "kernelspec": {
      "display_name": "Python 3 (ipykernel)",
      "language": "python",
      "name": "python3"
    },
    "language_info": {
      "codemirror_mode": {
        "name": "ipython",
        "version": 3
      },
      "file_extension": ".py",
      "mimetype": "text/x-python",
      "name": "python",
      "nbconvert_exporter": "python",
      "pygments_lexer": "ipython3",
      "version": "3.8.15"
    },
    "colab": {
      "provenance": []
    }
  },
  "nbformat": 4,
  "nbformat_minor": 5
}